{
 "cells": [
  {
   "cell_type": "markdown",
   "id": "abe45d9a",
   "metadata": {},
   "source": [
    "# Name-SHIVESH CHANDRA\n",
    "# REGISTRATION NUMBER-200968230\n",
    "# LAB 1 EXERCISE 1"
   ]
  },
  {
   "cell_type": "code",
   "execution_count": 42,
   "id": "2e63ff45",
   "metadata": {},
   "outputs": [],
   "source": [
    "import pandas as pd  "
   ]
  },
  {
   "cell_type": "code",
   "execution_count": 43,
   "id": "d7365523",
   "metadata": {},
   "outputs": [],
   "source": [
    "#Creating a data frame of 10 students with their details\n",
    "students = [[1,'Shivesh', 'M', 98, 93, 100], [2, 'Diya', 'F', 100, 99, 98], [3, 'Sanket', 'M', 78, 72, 68],[4, 'Ishika', 'F', 89, 98, 100],[5, 'Yash', 'M', 78, 73, 87], [6, 'Nandini', 'F', 81, 77, 95], [7, 'Apoorv', 'M', 56, 38, 39], [9, 'Samarth', 'M', 32, 33, 39],[9, 'Ayaan', 'M', 23, 34, 65], [10, 'Navya', 'F', 32, 33, 34]]"
   ]
  },
  {
   "cell_type": "code",
   "execution_count": 44,
   "id": "2fc79cb1",
   "metadata": {
    "scrolled": true
   },
   "outputs": [
    {
     "name": "stdout",
     "output_type": "stream",
     "text": [
      "   Roll number     Name Gender  Marks1  Marks2  Marks3\n",
      "0            1  Shivesh      M      98      93     100\n",
      "1            2     Diya      F     100      99      98\n",
      "2            3   Sanket      M      78      72      68\n",
      "3            4   Ishika      F      89      98     100\n",
      "4            5     Yash      M      78      73      87\n",
      "5            6  Nandini      F      81      77      95\n",
      "6            7   Apoorv      M      56      38      39\n",
      "7            9  Samarth      M      32      33      39\n",
      "8            9    Ayaan      M      23      34      65\n",
      "9           10    Navya      F      32      33      34\n"
     ]
    }
   ],
   "source": [
    "df = pd.DataFrame(students ,columns=[\"Roll number\", \"Name\", \"Gender\", \"Marks1\", \"Marks2\", \"Marks3\"]) \n",
    "print(df)"
   ]
  },
  {
   "cell_type": "code",
   "execution_count": 45,
   "id": "70cb470f",
   "metadata": {},
   "outputs": [
    {
     "name": "stdout",
     "output_type": "stream",
     "text": [
      "   Roll number     Name Gender  Marks1  Marks2  Marks3  Total Marks\n",
      "0            1  Shivesh      M      98      93     100          291\n",
      "1            2     Diya      F     100      99      98          297\n",
      "2            3   Sanket      M      78      72      68          218\n",
      "3            4   Ishika      F      89      98     100          287\n",
      "4            5     Yash      M      78      73      87          238\n",
      "5            6  Nandini      F      81      77      95          253\n",
      "6            7   Apoorv      M      56      38      39          133\n",
      "7            9  Samarth      M      32      33      39          104\n",
      "8            9    Ayaan      M      23      34      65          122\n",
      "9           10    Navya      F      32      33      34           99\n"
     ]
    }
   ],
   "source": [
    "#Adding a column with total marks\n",
    "totalMarks = df['Marks1']+df['Marks2']+df['Marks3']\n",
    "df['Total Marks']= totalMarks\n",
    "print(df)"
   ]
  },
  {
   "cell_type": "code",
   "execution_count": 46,
   "id": "909c4be1",
   "metadata": {},
   "outputs": [
    {
     "name": "stdout",
     "output_type": "stream",
     "text": [
      "Lowest marks in Marks1 is:\n",
      "23\n"
     ]
    }
   ],
   "source": [
    "#Lowest marks in Marks1\n",
    "min = df['Marks1'].min()\n",
    "print(\"Lowest marks in Marks1 is:\")\n",
    "print(min)"
   ]
  },
  {
   "cell_type": "code",
   "execution_count": 47,
   "id": "7be9db0d",
   "metadata": {},
   "outputs": [
    {
     "name": "stdout",
     "output_type": "stream",
     "text": [
      "Highest marks in Marks2 is:\n",
      "99\n"
     ]
    }
   ],
   "source": [
    "#Highest marks in Marks2\n",
    "max = df['Marks2'].max()\n",
    "print(\"Highest marks in Marks2 is:\")\n",
    "print(max)"
   ]
  },
  {
   "cell_type": "code",
   "execution_count": 48,
   "id": "8aee5171",
   "metadata": {},
   "outputs": [
    {
     "name": "stdout",
     "output_type": "stream",
     "text": [
      "The average marks in Marks3 is:\n",
      "72.5\n"
     ]
    }
   ],
   "source": [
    "#Average marks in Marks3\n",
    "avg = df['Marks3'].mean()\n",
    "print(\"The average marks in Marks3 is:\")\n",
    "print(avg)"
   ]
  },
  {
   "cell_type": "code",
   "execution_count": 49,
   "id": "c94ccd9d",
   "metadata": {},
   "outputs": [
    {
     "data": {
      "text/plain": [
       "1    Diya\n",
       "Name: Name, dtype: object"
      ]
     },
     "execution_count": 49,
     "metadata": {},
     "output_type": "execute_result"
    }
   ],
   "source": [
    "#Student with highest average marks\n",
    "df.loc[df['Total Marks'] == df['Total Marks'].max(), 'Name']"
   ]
  },
  {
   "cell_type": "code",
   "execution_count": 50,
   "id": "779d1e4a",
   "metadata": {},
   "outputs": [
    {
     "name": "stdout",
     "output_type": "stream",
     "text": [
      "Students with highest average marks is Diya\n"
     ]
    }
   ],
   "source": [
    "print(\"Students with highest average marks is Diya\")"
   ]
  },
  {
   "cell_type": "code",
   "execution_count": 51,
   "id": "23f16829",
   "metadata": {},
   "outputs": [
    {
     "data": {
      "text/plain": [
       "4"
      ]
     },
     "execution_count": 51,
     "metadata": {},
     "output_type": "execute_result"
    }
   ],
   "source": [
    "#Number of students failed in Marks2\n",
    "len(df[df['Marks2']<40])"
   ]
  },
  {
   "cell_type": "code",
   "execution_count": 52,
   "id": "169bd056",
   "metadata": {},
   "outputs": [
    {
     "name": "stdout",
     "output_type": "stream",
     "text": [
      "4 student failed in Marks2\n"
     ]
    }
   ],
   "source": [
    "print(\"4 student failed in Marks2\")"
   ]
  }
 ],
 "metadata": {
  "kernelspec": {
   "display_name": "Python 3 (ipykernel)",
   "language": "python",
   "name": "python3"
  },
  "language_info": {
   "codemirror_mode": {
    "name": "ipython",
    "version": 3
   },
   "file_extension": ".py",
   "mimetype": "text/x-python",
   "name": "python",
   "nbconvert_exporter": "python",
   "pygments_lexer": "ipython3",
   "version": "3.9.7"
  }
 },
 "nbformat": 4,
 "nbformat_minor": 5
}
